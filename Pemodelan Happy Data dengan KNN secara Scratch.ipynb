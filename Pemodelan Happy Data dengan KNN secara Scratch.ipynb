{
 "cells": [
  {
   "cell_type": "code",
   "execution_count": 19,
   "id": "053c7c41",
   "metadata": {},
   "outputs": [
    {
     "data": {
      "text/html": [
       "<div>\n",
       "<style scoped>\n",
       "    .dataframe tbody tr th:only-of-type {\n",
       "        vertical-align: middle;\n",
       "    }\n",
       "\n",
       "    .dataframe tbody tr th {\n",
       "        vertical-align: top;\n",
       "    }\n",
       "\n",
       "    .dataframe thead th {\n",
       "        text-align: right;\n",
       "    }\n",
       "</style>\n",
       "<table border=\"1\" class=\"dataframe\">\n",
       "  <thead>\n",
       "    <tr style=\"text-align: right;\">\n",
       "      <th></th>\n",
       "      <th>infoavail</th>\n",
       "      <th>housecost</th>\n",
       "      <th>schoolquality</th>\n",
       "      <th>policetrust</th>\n",
       "      <th>streetquality</th>\n",
       "      <th>ëvents</th>\n",
       "      <th>happy</th>\n",
       "    </tr>\n",
       "  </thead>\n",
       "  <tbody>\n",
       "    <tr>\n",
       "      <th>0</th>\n",
       "      <td>3</td>\n",
       "      <td>3</td>\n",
       "      <td>3</td>\n",
       "      <td>4</td>\n",
       "      <td>2</td>\n",
       "      <td>4</td>\n",
       "      <td>0</td>\n",
       "    </tr>\n",
       "    <tr>\n",
       "      <th>1</th>\n",
       "      <td>3</td>\n",
       "      <td>2</td>\n",
       "      <td>3</td>\n",
       "      <td>5</td>\n",
       "      <td>4</td>\n",
       "      <td>3</td>\n",
       "      <td>0</td>\n",
       "    </tr>\n",
       "    <tr>\n",
       "      <th>2</th>\n",
       "      <td>5</td>\n",
       "      <td>3</td>\n",
       "      <td>3</td>\n",
       "      <td>3</td>\n",
       "      <td>3</td>\n",
       "      <td>5</td>\n",
       "      <td>1</td>\n",
       "    </tr>\n",
       "    <tr>\n",
       "      <th>3</th>\n",
       "      <td>5</td>\n",
       "      <td>4</td>\n",
       "      <td>3</td>\n",
       "      <td>3</td>\n",
       "      <td>3</td>\n",
       "      <td>5</td>\n",
       "      <td>0</td>\n",
       "    </tr>\n",
       "    <tr>\n",
       "      <th>4</th>\n",
       "      <td>5</td>\n",
       "      <td>4</td>\n",
       "      <td>3</td>\n",
       "      <td>3</td>\n",
       "      <td>3</td>\n",
       "      <td>5</td>\n",
       "      <td>0</td>\n",
       "    </tr>\n",
       "    <tr>\n",
       "      <th>...</th>\n",
       "      <td>...</td>\n",
       "      <td>...</td>\n",
       "      <td>...</td>\n",
       "      <td>...</td>\n",
       "      <td>...</td>\n",
       "      <td>...</td>\n",
       "      <td>...</td>\n",
       "    </tr>\n",
       "    <tr>\n",
       "      <th>138</th>\n",
       "      <td>5</td>\n",
       "      <td>3</td>\n",
       "      <td>3</td>\n",
       "      <td>1</td>\n",
       "      <td>3</td>\n",
       "      <td>5</td>\n",
       "      <td>0</td>\n",
       "    </tr>\n",
       "    <tr>\n",
       "      <th>139</th>\n",
       "      <td>5</td>\n",
       "      <td>2</td>\n",
       "      <td>3</td>\n",
       "      <td>4</td>\n",
       "      <td>2</td>\n",
       "      <td>5</td>\n",
       "      <td>1</td>\n",
       "    </tr>\n",
       "    <tr>\n",
       "      <th>140</th>\n",
       "      <td>5</td>\n",
       "      <td>3</td>\n",
       "      <td>3</td>\n",
       "      <td>4</td>\n",
       "      <td>4</td>\n",
       "      <td>5</td>\n",
       "      <td>1</td>\n",
       "    </tr>\n",
       "    <tr>\n",
       "      <th>141</th>\n",
       "      <td>4</td>\n",
       "      <td>3</td>\n",
       "      <td>3</td>\n",
       "      <td>4</td>\n",
       "      <td>4</td>\n",
       "      <td>5</td>\n",
       "      <td>0</td>\n",
       "    </tr>\n",
       "    <tr>\n",
       "      <th>142</th>\n",
       "      <td>5</td>\n",
       "      <td>3</td>\n",
       "      <td>2</td>\n",
       "      <td>5</td>\n",
       "      <td>5</td>\n",
       "      <td>5</td>\n",
       "      <td>0</td>\n",
       "    </tr>\n",
       "  </tbody>\n",
       "</table>\n",
       "<p>143 rows × 7 columns</p>\n",
       "</div>"
      ],
      "text/plain": [
       "     infoavail  housecost  schoolquality  policetrust  streetquality  ëvents  \\\n",
       "0            3          3              3            4              2       4   \n",
       "1            3          2              3            5              4       3   \n",
       "2            5          3              3            3              3       5   \n",
       "3            5          4              3            3              3       5   \n",
       "4            5          4              3            3              3       5   \n",
       "..         ...        ...            ...          ...            ...     ...   \n",
       "138          5          3              3            1              3       5   \n",
       "139          5          2              3            4              2       5   \n",
       "140          5          3              3            4              4       5   \n",
       "141          4          3              3            4              4       5   \n",
       "142          5          3              2            5              5       5   \n",
       "\n",
       "     happy  \n",
       "0        0  \n",
       "1        0  \n",
       "2        1  \n",
       "3        0  \n",
       "4        0  \n",
       "..     ...  \n",
       "138      0  \n",
       "139      1  \n",
       "140      1  \n",
       "141      0  \n",
       "142      0  \n",
       "\n",
       "[143 rows x 7 columns]"
      ]
     },
     "execution_count": 19,
     "metadata": {},
     "output_type": "execute_result"
    }
   ],
   "source": [
    "import numpy as np\n",
    "import matplotlib.pyplot as plt\n",
    "import pandas as pd\n",
    "\n",
    "df = pd.read_csv('happydata.csv')\n",
    "X = df.iloc[:, :-1].values\n",
    "y = df.iloc[:, -1].values\n",
    "\n",
    "df"
   ]
  },
  {
   "cell_type": "code",
   "execution_count": 20,
   "id": "bad6034e",
   "metadata": {},
   "outputs": [
    {
     "name": "stdout",
     "output_type": "stream",
     "text": [
      "[[5 2 4 4 5 5]\n",
      " [5 3 3 3 5 3]\n",
      " [1 1 1 3 1 4]\n",
      " [4 1 3 3 3 4]\n",
      " [5 4 5 5 5 5]\n",
      " [5 1 1 5 3 5]\n",
      " [4 3 3 4 2 4]\n",
      " [3 1 2 3 3 1]\n",
      " [5 3 2 4 4 5]\n",
      " [5 3 4 4 4 5]\n",
      " [5 2 3 4 4 3]\n",
      " [4 1 1 3 4 4]\n",
      " [4 2 4 5 4 3]\n",
      " [5 3 5 5 4 5]\n",
      " [3 4 5 4 5 4]\n",
      " [5 2 3 3 3 5]\n",
      " [3 4 3 4 1 4]\n",
      " [5 2 4 4 5 5]\n",
      " [3 2 4 3 4 4]\n",
      " [5 2 4 4 2 3]\n",
      " [5 2 3 3 2 5]\n",
      " [5 1 3 3 4 4]\n",
      " [5 4 3 3 3 5]\n",
      " [3 2 2 3 3 3]\n",
      " [3 1 2 2 1 3]\n",
      " [4 1 3 4 4 4]\n",
      " [4 3 2 3 2 4]\n",
      " [5 2 4 5 5 5]\n",
      " [4 2 4 4 4 4]\n",
      " [5 4 5 4 5 4]\n",
      " [4 3 4 4 2 4]\n",
      " [4 3 3 4 2 4]\n",
      " [4 4 3 4 4 4]\n",
      " [3 3 1 3 2 3]\n",
      " [5 4 4 3 3 4]\n",
      " [4 4 3 4 2 4]\n",
      " [3 1 3 2 1 2]\n",
      " [3 2 3 5 4 3]\n",
      " [5 4 5 5 5 4]\n",
      " [3 4 4 5 1 3]\n",
      " [4 1 3 4 4 3]\n",
      " [5 4 3 3 3 5]\n",
      " [4 3 3 4 4 5]\n",
      " [5 1 4 3 4 5]\n",
      " [5 3 4 3 4 5]\n",
      " [5 5 3 5 5 5]\n",
      " [5 1 3 3 4 4]\n",
      " [4 4 4 4 1 3]\n",
      " [5 2 3 4 4 5]\n",
      " [3 3 3 4 2 4]\n",
      " [3 2 4 4 4 5]\n",
      " [3 3 1 3 3 4]\n",
      " [5 2 4 3 4 5]\n",
      " [4 3 3 4 3 4]\n",
      " [3 2 4 4 4 5]\n",
      " [4 3 5 5 5 4]\n",
      " [4 2 2 4 4 5]\n",
      " [5 3 3 3 5 3]\n",
      " [5 5 5 5 5 5]\n",
      " [4 3 2 4 3 4]\n",
      " [5 3 4 4 4 4]\n",
      " [5 2 4 4 5 5]\n",
      " [4 3 3 3 4 4]\n",
      " [5 3 5 4 5 5]\n",
      " [4 1 3 3 4 3]\n",
      " [3 3 2 4 4 4]\n",
      " [4 2 4 4 4 4]\n",
      " [3 3 1 3 3 4]\n",
      " [5 3 3 4 4 5]\n",
      " [5 1 4 4 4 5]\n",
      " [5 1 3 4 5 5]\n",
      " [3 2 3 3 4 4]\n",
      " [4 3 3 3 3 5]\n",
      " [5 3 2 5 5 5]\n",
      " [5 2 3 3 2 5]\n",
      " [4 1 3 4 4 4]\n",
      " [4 2 4 4 4 4]\n",
      " [5 3 3 4 3 3]\n",
      " [4 3 4 4 3 4]\n",
      " [4 2 3 3 4 4]\n",
      " [5 3 3 1 3 5]\n",
      " [5 1 5 5 5 5]\n",
      " [4 5 5 5 1 3]\n",
      " [4 3 3 3 3 4]\n",
      " [4 2 3 3 4 4]\n",
      " [5 2 5 5 5 5]\n",
      " [5 1 5 5 5 5]\n",
      " [5 5 1 1 5 1]\n",
      " [5 3 4 3 4 5]\n",
      " [4 3 2 4 3 4]\n",
      " [3 3 3 3 3 4]\n",
      " [3 3 3 5 4 3]\n",
      " [4 3 2 4 4 4]\n",
      " [4 1 3 1 1 4]\n",
      " [4 2 3 3 4 4]\n",
      " [4 4 4 2 5 5]\n",
      " [5 4 4 4 4 5]\n",
      " [5 5 5 2 5 5]\n",
      " [4 1 3 5 3 5]\n",
      " [3 1 2 4 3 5]]\n"
     ]
    }
   ],
   "source": [
    "# Memisahkan data training dan testing\n",
    "from sklearn.model_selection import train_test_split\n",
    "\n",
    "# Menggunakan test_size yang sesuai untuk mendapatkan 43 data di X_test\n",
    "X_train, X_test, y_train, y_test = train_test_split(X, y, test_size=43/len(X), random_state=0)\n",
    "print(X_train)"
   ]
  },
  {
   "cell_type": "code",
   "execution_count": 21,
   "id": "59c61206",
   "metadata": {},
   "outputs": [
    {
     "name": "stdout",
     "output_type": "stream",
     "text": [
      "[1 1 0 0 1 0 1 0 1 1 1 0 0 1 0 0 0 0 1 1 1 1 0 0 0 1 0 1 1 1 0 0 0 0 1 1 0\n",
      " 0 1 1 0 0 0 1 1 1 1 0 1 0 1 1 1 1 1 0 1 0 1 1 1 1 0 0 0 0 0 1 1 0 1 0 0 0\n",
      " 0 1 0 0 1 1 0 1 0 1 0 1 1 1 1 1 0 0 1 1 1 0 1 0 0 1]\n"
     ]
    }
   ],
   "source": [
    "print(y_train)"
   ]
  },
  {
   "cell_type": "code",
   "execution_count": 22,
   "id": "d0421dee",
   "metadata": {},
   "outputs": [
    {
     "name": "stdout",
     "output_type": "stream",
     "text": [
      "[[5 2 3 3 4 5]\n",
      " [5 1 4 3 5 5]\n",
      " [5 3 4 5 4 5]\n",
      " [5 2 4 3 4 5]\n",
      " [4 3 5 5 5 4]\n",
      " [5 4 4 4 4 5]\n",
      " [4 2 3 4 3 3]\n",
      " [4 3 3 4 4 4]\n",
      " [5 2 2 4 4 5]\n",
      " [5 5 3 4 4 5]\n",
      " [4 1 3 4 4 3]\n",
      " [3 2 3 3 5 4]\n",
      " [4 1 4 4 4 4]\n",
      " [5 4 2 4 3 5]\n",
      " [5 3 3 4 4 5]\n",
      " [4 1 3 4 4 5]\n",
      " [5 2 3 5 5 5]\n",
      " [5 1 5 3 5 5]\n",
      " [4 1 3 2 4 4]\n",
      " [5 1 2 5 2 4]\n",
      " [4 4 3 3 2 5]\n",
      " [5 5 5 5 5 5]\n",
      " [4 4 4 4 3 4]\n",
      " [3 4 3 3 2 3]\n",
      " [5 2 4 2 2 4]\n",
      " [5 1 2 4 4 5]\n",
      " [5 3 4 3 4 3]\n",
      " [4 4 3 4 3 3]\n",
      " [4 2 4 3 2 4]\n",
      " [5 3 3 4 4 4]\n",
      " [5 3 3 3 3 5]\n",
      " [3 3 3 5 5 5]\n",
      " [5 3 3 4 4 5]\n",
      " [3 2 3 3 2 3]\n",
      " [5 2 3 3 3 3]\n",
      " [5 2 3 4 2 5]\n",
      " [5 1 3 3 4 4]\n",
      " [5 2 4 5 4 5]\n",
      " [5 2 5 5 5 3]\n",
      " [5 3 3 3 2 5]\n",
      " [5 2 2 4 5 5]\n",
      " [5 3 3 3 5 5]\n",
      " [5 3 2 4 4 4]]\n"
     ]
    }
   ],
   "source": [
    "print(X_test)"
   ]
  },
  {
   "cell_type": "code",
   "execution_count": 23,
   "id": "1a17b580",
   "metadata": {},
   "outputs": [
    {
     "name": "stdout",
     "output_type": "stream",
     "text": [
      "[0 1 0 1 0 1 1 1 0 1 0 0 0 0 1 0 1 1 0 1 1 1 0 0 1 0 1 0 1 0 1 1 0 0 0 1 1\n",
      " 1 1 0 1 1 1]\n"
     ]
    }
   ],
   "source": [
    "print(y_test)"
   ]
  },
  {
   "cell_type": "code",
   "execution_count": 24,
   "id": "75d93fa2",
   "metadata": {},
   "outputs": [
    {
     "name": "stdout",
     "output_type": "stream",
     "text": [
      "banyak data x training:  100\n",
      "banyak data x testing:  43\n"
     ]
    }
   ],
   "source": [
    "print('banyak data x training: ', len(X_train))\n",
    "print('banyak data x testing: ', len(X_test))"
   ]
  },
  {
   "cell_type": "code",
   "execution_count": 27,
   "id": "f3419958",
   "metadata": {},
   "outputs": [
    {
     "name": "stdout",
     "output_type": "stream",
     "text": [
      "[[ 0.95388647 -0.50160205  0.70161882  0.34964848  1.22392218  0.96711573]\n",
      " [ 0.95388647  0.3941159  -0.24651472 -0.74300302  1.22392218 -1.33554077]\n",
      " [-3.87591845 -1.39732001 -2.1427818  -0.74300302 -2.19963636 -0.18421252]\n",
      " [-0.25356476 -1.39732001 -0.24651472 -0.74300302 -0.48785709 -0.18421252]\n",
      " [ 0.95388647  1.28983386  1.64975236  1.44229998  1.22392218  0.96711573]\n",
      " [ 0.95388647 -1.39732001 -2.1427818   1.44229998 -0.48785709  0.96711573]\n",
      " [-0.25356476  0.3941159  -0.24651472  0.34964848 -1.34374673 -0.18421252]\n",
      " [-1.46101599 -1.39732001 -1.19464826 -0.74300302 -0.48785709 -3.63819726]\n",
      " [ 0.95388647  0.3941159  -1.19464826  0.34964848  0.36803254  0.96711573]\n",
      " [ 0.95388647  0.3941159   0.70161882  0.34964848  0.36803254  0.96711573]\n",
      " [ 0.95388647 -0.50160205 -0.24651472  0.34964848  0.36803254 -1.33554077]\n",
      " [-0.25356476 -1.39732001 -2.1427818  -0.74300302  0.36803254 -0.18421252]\n",
      " [-0.25356476 -0.50160205  0.70161882  1.44229998  0.36803254 -1.33554077]\n",
      " [ 0.95388647  0.3941159   1.64975236  1.44229998  0.36803254  0.96711573]\n",
      " [-1.46101599  1.28983386  1.64975236  0.34964848  1.22392218 -0.18421252]\n",
      " [ 0.95388647 -0.50160205 -0.24651472 -0.74300302 -0.48785709  0.96711573]\n",
      " [-1.46101599  1.28983386 -0.24651472  0.34964848 -2.19963636 -0.18421252]\n",
      " [ 0.95388647 -0.50160205  0.70161882  0.34964848  1.22392218  0.96711573]\n",
      " [-1.46101599 -0.50160205  0.70161882 -0.74300302  0.36803254 -0.18421252]\n",
      " [ 0.95388647 -0.50160205  0.70161882  0.34964848 -1.34374673 -1.33554077]\n",
      " [ 0.95388647 -0.50160205 -0.24651472 -0.74300302 -1.34374673  0.96711573]\n",
      " [ 0.95388647 -1.39732001 -0.24651472 -0.74300302  0.36803254 -0.18421252]\n",
      " [ 0.95388647  1.28983386 -0.24651472 -0.74300302 -0.48785709  0.96711573]\n",
      " [-1.46101599 -0.50160205 -1.19464826 -0.74300302 -0.48785709 -1.33554077]\n",
      " [-1.46101599 -1.39732001 -1.19464826 -1.83565452 -2.19963636 -1.33554077]\n",
      " [-0.25356476 -1.39732001 -0.24651472  0.34964848  0.36803254 -0.18421252]\n",
      " [-0.25356476  0.3941159  -1.19464826 -0.74300302 -1.34374673 -0.18421252]\n",
      " [ 0.95388647 -0.50160205  0.70161882  1.44229998  1.22392218  0.96711573]\n",
      " [-0.25356476 -0.50160205  0.70161882  0.34964848  0.36803254 -0.18421252]\n",
      " [ 0.95388647  1.28983386  1.64975236  0.34964848  1.22392218 -0.18421252]\n",
      " [-0.25356476  0.3941159   0.70161882  0.34964848 -1.34374673 -0.18421252]\n",
      " [-0.25356476  0.3941159  -0.24651472  0.34964848 -1.34374673 -0.18421252]\n",
      " [-0.25356476  1.28983386 -0.24651472  0.34964848  0.36803254 -0.18421252]\n",
      " [-1.46101599  0.3941159  -2.1427818  -0.74300302 -1.34374673 -1.33554077]\n",
      " [ 0.95388647  1.28983386  0.70161882 -0.74300302 -0.48785709 -0.18421252]\n",
      " [-0.25356476  1.28983386 -0.24651472  0.34964848 -1.34374673 -0.18421252]\n",
      " [-1.46101599 -1.39732001 -0.24651472 -1.83565452 -2.19963636 -2.48686901]\n",
      " [-1.46101599 -0.50160205 -0.24651472  1.44229998  0.36803254 -1.33554077]\n",
      " [ 0.95388647  1.28983386  1.64975236  1.44229998  1.22392218 -0.18421252]\n",
      " [-1.46101599  1.28983386  0.70161882  1.44229998 -2.19963636 -1.33554077]\n",
      " [-0.25356476 -1.39732001 -0.24651472  0.34964848  0.36803254 -1.33554077]\n",
      " [ 0.95388647  1.28983386 -0.24651472 -0.74300302 -0.48785709  0.96711573]\n",
      " [-0.25356476  0.3941159  -0.24651472  0.34964848  0.36803254  0.96711573]\n",
      " [ 0.95388647 -1.39732001  0.70161882 -0.74300302  0.36803254  0.96711573]\n",
      " [ 0.95388647  0.3941159   0.70161882 -0.74300302  0.36803254  0.96711573]\n",
      " [ 0.95388647  2.18555181 -0.24651472  1.44229998  1.22392218  0.96711573]\n",
      " [ 0.95388647 -1.39732001 -0.24651472 -0.74300302  0.36803254 -0.18421252]\n",
      " [-0.25356476  1.28983386  0.70161882  0.34964848 -2.19963636 -1.33554077]\n",
      " [ 0.95388647 -0.50160205 -0.24651472  0.34964848  0.36803254  0.96711573]\n",
      " [-1.46101599  0.3941159  -0.24651472  0.34964848 -1.34374673 -0.18421252]\n",
      " [-1.46101599 -0.50160205  0.70161882  0.34964848  0.36803254  0.96711573]\n",
      " [-1.46101599  0.3941159  -2.1427818  -0.74300302 -0.48785709 -0.18421252]\n",
      " [ 0.95388647 -0.50160205  0.70161882 -0.74300302  0.36803254  0.96711573]\n",
      " [-0.25356476  0.3941159  -0.24651472  0.34964848 -0.48785709 -0.18421252]\n",
      " [-1.46101599 -0.50160205  0.70161882  0.34964848  0.36803254  0.96711573]\n",
      " [-0.25356476  0.3941159   1.64975236  1.44229998  1.22392218 -0.18421252]\n",
      " [-0.25356476 -0.50160205 -1.19464826  0.34964848  0.36803254  0.96711573]\n",
      " [ 0.95388647  0.3941159  -0.24651472 -0.74300302  1.22392218 -1.33554077]\n",
      " [ 0.95388647  2.18555181  1.64975236  1.44229998  1.22392218  0.96711573]\n",
      " [-0.25356476  0.3941159  -1.19464826  0.34964848 -0.48785709 -0.18421252]\n",
      " [ 0.95388647  0.3941159   0.70161882  0.34964848  0.36803254 -0.18421252]\n",
      " [ 0.95388647 -0.50160205  0.70161882  0.34964848  1.22392218  0.96711573]\n",
      " [-0.25356476  0.3941159  -0.24651472 -0.74300302  0.36803254 -0.18421252]\n",
      " [ 0.95388647  0.3941159   1.64975236  0.34964848  1.22392218  0.96711573]\n",
      " [-0.25356476 -1.39732001 -0.24651472 -0.74300302  0.36803254 -1.33554077]\n",
      " [-1.46101599  0.3941159  -1.19464826  0.34964848  0.36803254 -0.18421252]\n",
      " [-0.25356476 -0.50160205  0.70161882  0.34964848  0.36803254 -0.18421252]\n",
      " [-1.46101599  0.3941159  -2.1427818  -0.74300302 -0.48785709 -0.18421252]\n",
      " [ 0.95388647  0.3941159  -0.24651472  0.34964848  0.36803254  0.96711573]\n",
      " [ 0.95388647 -1.39732001  0.70161882  0.34964848  0.36803254  0.96711573]\n",
      " [ 0.95388647 -1.39732001 -0.24651472  0.34964848  1.22392218  0.96711573]\n",
      " [-1.46101599 -0.50160205 -0.24651472 -0.74300302  0.36803254 -0.18421252]\n",
      " [-0.25356476  0.3941159  -0.24651472 -0.74300302 -0.48785709  0.96711573]\n",
      " [ 0.95388647  0.3941159  -1.19464826  1.44229998  1.22392218  0.96711573]\n",
      " [ 0.95388647 -0.50160205 -0.24651472 -0.74300302 -1.34374673  0.96711573]\n",
      " [-0.25356476 -1.39732001 -0.24651472  0.34964848  0.36803254 -0.18421252]\n",
      " [-0.25356476 -0.50160205  0.70161882  0.34964848  0.36803254 -0.18421252]\n",
      " [ 0.95388647  0.3941159  -0.24651472  0.34964848 -0.48785709 -1.33554077]\n",
      " [-0.25356476  0.3941159   0.70161882  0.34964848 -0.48785709 -0.18421252]\n",
      " [-0.25356476 -0.50160205 -0.24651472 -0.74300302  0.36803254 -0.18421252]\n",
      " [ 0.95388647  0.3941159  -0.24651472 -2.92830602 -0.48785709  0.96711573]\n",
      " [ 0.95388647 -1.39732001  1.64975236  1.44229998  1.22392218  0.96711573]\n",
      " [-0.25356476  2.18555181  1.64975236  1.44229998 -2.19963636 -1.33554077]\n",
      " [-0.25356476  0.3941159  -0.24651472 -0.74300302 -0.48785709 -0.18421252]\n",
      " [-0.25356476 -0.50160205 -0.24651472 -0.74300302  0.36803254 -0.18421252]\n",
      " [ 0.95388647 -0.50160205  1.64975236  1.44229998  1.22392218  0.96711573]\n",
      " [ 0.95388647 -1.39732001  1.64975236  1.44229998  1.22392218  0.96711573]\n",
      " [ 0.95388647  2.18555181 -2.1427818  -2.92830602  1.22392218 -3.63819726]\n",
      " [ 0.95388647  0.3941159   0.70161882 -0.74300302  0.36803254  0.96711573]\n",
      " [-0.25356476  0.3941159  -1.19464826  0.34964848 -0.48785709 -0.18421252]\n",
      " [-1.46101599  0.3941159  -0.24651472 -0.74300302 -0.48785709 -0.18421252]\n",
      " [-1.46101599  0.3941159  -0.24651472  1.44229998  0.36803254 -1.33554077]\n",
      " [-0.25356476  0.3941159  -1.19464826  0.34964848  0.36803254 -0.18421252]\n",
      " [-0.25356476 -1.39732001 -0.24651472 -2.92830602 -2.19963636 -0.18421252]\n",
      " [-0.25356476 -0.50160205 -0.24651472 -0.74300302  0.36803254 -0.18421252]\n",
      " [-0.25356476  1.28983386  0.70161882 -1.83565452  1.22392218  0.96711573]\n",
      " [ 0.95388647  1.28983386  0.70161882  0.34964848  0.36803254  0.96711573]\n",
      " [ 0.95388647  2.18555181  1.64975236 -1.83565452  1.22392218  0.96711573]\n",
      " [-0.25356476 -1.39732001 -0.24651472  1.44229998 -0.48785709  0.96711573]\n",
      " [-1.46101599 -1.39732001 -1.19464826  0.34964848 -0.48785709  0.96711573]]\n"
     ]
    }
   ],
   "source": [
    "# Melakukan scaling\n",
    "from sklearn.preprocessing import StandardScaler\n",
    "\n",
    "sc = StandardScaler()\n",
    "X_train = sc.fit_transform(X_train)\n",
    "X_test = sc.transform(X_test)\n",
    "\n",
    "print(X_train)"
   ]
  },
  {
   "cell_type": "code",
   "execution_count": 28,
   "id": "8649b03d",
   "metadata": {},
   "outputs": [
    {
     "name": "stdout",
     "output_type": "stream",
     "text": [
      "float64\n"
     ]
    }
   ],
   "source": [
    "print(X_test.dtype)"
   ]
  },
  {
   "cell_type": "code",
   "execution_count": 29,
   "id": "685fc2eb",
   "metadata": {},
   "outputs": [],
   "source": [
    "# Melatih model K-NN pada set Pelatihan\n",
    "\n",
    "from math import sqrt\n",
    "\n",
    "class KNN():\n",
    "    def __init__(self, k):\n",
    "        self.k = k\n",
    "        print(self.k)\n",
    "    \n",
    "    def fit(self, x_train, y_train):\n",
    "        self.x_train = x_train\n",
    "        self.y_train = y_train\n",
    "    \n",
    "    def calculate_euclidean(self, sample1, sample2):\n",
    "        distance = 0.0\n",
    "        for i in range(len(sample1)):\n",
    "            distance += (sample1[i] - sample2[i]) ** 2 # Jarak Euklides = sqrt(sum i to N (x1_i – x2_i)^2)\n",
    "        return sqrt(distance)\n",
    "    \n",
    "    def nearest_neighbors(self, test_sample):\n",
    "        distances = [] # menghitung jarak dari sampel uji ke setiap sampel dalam data latih\n",
    "        for i in range(len(self.x_train)):\n",
    "            distances.append((self.y_train[i], self.calculate_euclidean(self.x_train[i], test_sample)))\n",
    "        distances.sort(key=lambda x: x[1]) # mengurutkan secara menaik, berdasarkan nilai jarak\n",
    "        neighbors = []\n",
    "        for i in range(self.k): # mendapatkan k sampel pertama\n",
    "            neighbors.append(distances[i][0])\n",
    "        return neighbors\n",
    "    \n",
    "    def predict(self, test_set):\n",
    "        predictions = []\n",
    "        for test_sample in test_set:\n",
    "            neighbors = self.nearest_neighbors(test_sample)\n",
    "            labels = [sample for sample in neighbors]\n",
    "            prediction = max(labels, key=labels.count)\n",
    "            predictions.append(prediction)\n",
    "        return predictions"
   ]
  },
  {
   "cell_type": "code",
   "execution_count": 30,
   "id": "b3772a0e",
   "metadata": {},
   "outputs": [
    {
     "name": "stdout",
     "output_type": "stream",
     "text": [
      "3\n"
     ]
    }
   ],
   "source": [
    "#model yang kita gunakan\n",
    "\n",
    "model=KNN(3) \n",
    "model.fit(X_train,y_train) "
   ]
  },
  {
   "cell_type": "code",
   "execution_count": 31,
   "id": "69c709b1",
   "metadata": {},
   "outputs": [
    {
     "data": {
      "text/plain": [
       "KNeighborsClassifier(n_neighbors=3)"
      ]
     },
     "execution_count": 31,
     "metadata": {},
     "output_type": "execute_result"
    }
   ],
   "source": [
    "from sklearn.neighbors import KNeighborsClassifier\n",
    "classifier = KNeighborsClassifier(n_neighbors = 3, metric = 'minkowski', p = 2)#The default metric is minkowski, and with p=2 is equivalent to the standard Euclidean metric.\n",
    "classifier.fit(X_train, y_train)"
   ]
  },
  {
   "cell_type": "code",
   "execution_count": 32,
   "id": "46f8f39a",
   "metadata": {},
   "outputs": [],
   "source": [
    "# Memprediksi hasil set data uji\n",
    "\n",
    "y_pred = classifier.predict(X_test)\n",
    "predictions=model.predict(X_test)"
   ]
  },
  {
   "cell_type": "code",
   "execution_count": 33,
   "id": "4dcd037a",
   "metadata": {},
   "outputs": [
    {
     "name": "stdout",
     "output_type": "stream",
     "text": [
      "              precision    recall  f1-score   support\n",
      "\n",
      "           0       0.53      0.42      0.47        19\n",
      "           1       0.61      0.71      0.65        24\n",
      "\n",
      "    accuracy                           0.58        43\n",
      "   macro avg       0.57      0.56      0.56        43\n",
      "weighted avg       0.57      0.58      0.57        43\n",
      "\n",
      "[[ 8 11]\n",
      " [ 7 17]]\n"
     ]
    }
   ],
   "source": [
    "# Membuat Matriks Konfusi untuk membandingkan kedua model\n",
    "\n",
    "from sklearn.metrics import confusion_matrix, accuracy_score\n",
    "from sklearn.metrics import classification_report, confusion_matrix\n",
    "\n",
    "print(classification_report(y_test, y_pred))\n",
    "print(confusion_matrix(y_test, y_pred))"
   ]
  },
  {
   "cell_type": "code",
   "execution_count": 34,
   "id": "52293df9",
   "metadata": {},
   "outputs": [
    {
     "name": "stdout",
     "output_type": "stream",
     "text": [
      "[[ 8 11]\n",
      " [ 7 17]]\n",
      "Akurasi: 0.5813953488372093\n"
     ]
    }
   ],
   "source": [
    "cm = confusion_matrix(y_test, predictions) \n",
    "print(cm)\n",
    "\n",
    "akurasi = accuracy_score(y_test, predictions)\n",
    "print(\"Akurasi:\", akurasi)"
   ]
  },
  {
   "cell_type": "code",
   "execution_count": 35,
   "id": "1930ba95",
   "metadata": {},
   "outputs": [
    {
     "data": {
      "image/png": "[encoded data removed]",
      "text/plain": [
       "<Figure size 144x144 with 2 Axes>"
      ]
     },
     "metadata": {
      "needs_background": "light"
     },
     "output_type": "display_data"
    }
   ],
   "source": [
    "import seaborn as sn\n",
    "import matplotlib.pyplot as plt\n",
    "\n",
    "\n",
    "plt.figure(figsize=(2,2))\n",
    "sn.heatmap(cm ,annot= True, fmt=\"d\" )\n",
    "plt.xlabel(\"Hasil Prediksi\")\n",
    "plt.ylabel(\"Hasil Asli\")\n",
    "plt.title(\"Confusion Matrix Heatmap\")\n",
    "plt.show()"
   ]
  },
  {
   "cell_type": "code",
   "execution_count": 38,
   "id": "6152359d",
   "metadata": {},
   "outputs": [
    {
     "data": {
      "image/png": "[encoded data removed]",
      "text/plain": [
       "<Figure size 720x432 with 2 Axes>"
      ]
     },
     "metadata": {
      "needs_background": "light"
     },
     "output_type": "display_data"
    }
   ],
   "source": [
    "# Visualisasi hasil set data uji\n",
    "\n",
    "import numpy as np\n",
    "import matplotlib.pyplot as plt\n",
    "from sklearn.datasets import make_classification\n",
    "from sklearn.model_selection import train_test_split\n",
    "from sklearn.neighbors import KNeighborsClassifier\n",
    "\n",
    "def plot_knn_predictions(X, y, k=3):\n",
    "    # Membagi data menjadi data latih dan data uji\n",
    "    X_train, X_test, y_train, y_test = train_test_split(X, y, test_size=0.3, random_state=42)\n",
    "    \n",
    "    # Membuat model KNN\n",
    "    knn = KNeighborsClassifier(n_neighbors=k)\n",
    "    knn.fit(X_train, y_train)\n",
    "    \n",
    "    # Membuat plot untuk data latih\n",
    "    plt.figure(figsize=(10, 6))\n",
    "    plt.subplot(1, 2, 1)\n",
    "    plt.title(\"Training Data\")\n",
    "    plt.scatter(X_train[:, 0], X_train[:, 1], c=y_train, cmap=plt.cm.Paired, edgecolor='k', s=20)\n",
    "    plt.xlabel('Feature 1')\n",
    "    plt.ylabel('Feature 2')\n",
    "    \n",
    "    # Membuat plot untuk data uji dengan prediksi\n",
    "    plt.subplot(1, 2, 2)\n",
    "    plt.title(\"Test Data with Predictions (k={})\".format(k))\n",
    "    plt.scatter(X_test[:, 0], X_test[:, 1], c=knn.predict(X_test), cmap=plt.cm.Paired, edgecolor='k', s=20)\n",
    "    plt.xlabel('Feature 1')\n",
    "    plt.ylabel('Feature 2')\n",
    "    \n",
    "    # Menampilkan garis batas keputusan\n",
    "    h = .02  # Step size in the mesh\n",
    "    x_min, x_max = X[:, 0].min() - 1, X[:, 0].max() + 1\n",
    "    y_min, y_max = X[:, 1].min() - 1, X[:, 1].max() + 1\n",
    "    xx, yy = np.meshgrid(np.arange(x_min, x_max, h),\n",
    "                         np.arange(y_min, y_max, h))\n",
    "    Z = knn.predict(np.c_[xx.ravel(), yy.ravel()])\n",
    "\n",
    "    # Put the result into a color plot\n",
    "    Z = Z.reshape(xx.shape)\n",
    "    plt.contourf(xx, yy, Z, cmap=plt.cm.Paired, alpha=0.3)\n",
    "    \n",
    "    # Menambahkan legenda\n",
    "    plt.legend(handles=[plt.Line2D([0], [0], marker='o', color='w', markerfacecolor='red', markersize=10, label='Class 0'),\n",
    "                        plt.Line2D([0], [0], marker='o', color='w', markerfacecolor='blue', markersize=10, label='Class 1')])\n",
    "    \n",
    "    plt.tight_layout()\n",
    "    plt.show()\n",
    "\n",
    "X, y = make_classification(n_samples=143, n_features=2, n_informative=2, n_redundant=0, n_clusters_per_class=1, random_state=42)\n",
    "plot_knn_predictions(X, y)"
   ]
  },
  {
   "cell_type": "code",
   "execution_count": null,
   "id": "f51d7052",
   "metadata": {},
   "outputs": [],
   "source": []
  }
 ],
 "metadata": {
  "kernelspec": {
   "display_name": "Python 3 (ipykernel)",
   "language": "python",
   "name": "python3"
  },
  "language_info": {
   "codemirror_mode": {
    "name": "ipython",
    "version": 3
   },
   "file_extension": ".py",
   "mimetype": "text/x-python",
   "name": "python",
   "nbconvert_exporter": "python",
   "pygments_lexer": "ipython3",
   "version": "3.9.12"
  }
 },
 "nbformat": 4,
 "nbformat_minor": 5
}
